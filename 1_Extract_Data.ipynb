{
 "cells": [
  {
   "cell_type": "code",
   "execution_count": 1,
   "metadata": {},
   "outputs": [],
   "source": [
    "import csv\n",
    "from bs4 import BeautifulSoup\n",
    "import requests\n",
    "import openpyxl\n",
    "from openpyxl.utils import range_boundaries"
   ]
  },
  {
   "cell_type": "code",
   "execution_count": 2,
   "metadata": {},
   "outputs": [],
   "source": [
    "#Code to import directly from xls path on website\n",
    "url = 'https://apps.urban.org/features/debt-interactive-map/downloadable-docs/Debt-in-America-Data.xlsx'\n",
    "Debt_Type = requests.get(url)\n",
    "with open('Debt_Data.xlsx', 'wb') as output:\n",
    "     output.write(Debt_Type.content)"
   ]
  },
  {
   "cell_type": "code",
   "execution_count": 83,
   "metadata": {},
   "outputs": [],
   "source": [
    "#Code to download excel file using a click element\n",
    "\n",
    "# driver = webdriver.Chrome()\n",
    "# browser.visit(\"https://apps.urban.org/features/debt-interactive-map/?type=auto&variable=autoopen_pct\");\n",
    "# links = browser.find_link_by_partial_text(\"Download data\");"
   ]
  },
  {
   "cell_type": "raw",
   "metadata": {},
   "source": [
    "Tried to code a click element, but it wouldn't work - realized the html is written incorrectly on the site! See explanation below \n",
    "\n",
    "(Source: Stackoverflow - https://stackoverflow.com/questions/11908249/debugging-element-is-not-clickable-at-point-error)\n",
    "\n",
    "There is a third type of cause, which is that your element is wrapped in a div or a span. The page can be fully loaded, and completely within the viewport, but Chromedriver will refuse to click it, where the webdriver for FF and IE have no issue. A real human has no clue that the span exists, and the browser doesn't care when you actually click it, \n",
    "as a human. Neither moving around, nor waiting will solve this issue; either avoid Chrome/chromedriver, or rewrite the page's HTML seem to be the only options for people in case 3."
   ]
  },
  {
   "cell_type": "code",
   "execution_count": 3,
   "metadata": {},
   "outputs": [
    {
     "name": "stderr",
     "output_type": "stream",
     "text": [
      "C:\\Users\\madel\\Anaconda3\\lib\\site-packages\\openpyxl\\reader\\worksheet.py:322: UserWarning: Unknown extension is not supported and will be removed\n",
      "  warn(msg)\n",
      "C:\\Users\\madel\\Anaconda3\\lib\\site-packages\\ipykernel_launcher.py:2: DeprecationWarning: Call to deprecated function get_sheet_names (Use wb.sheetnames).\n",
      "  \n"
     ]
    },
    {
     "data": {
      "text/plain": [
       "['Medical Debt - State, US',\n",
       " 'Medical Debt - County',\n",
       " 'Student Loan Debt - State, US',\n",
       " 'Student Loan Debt - County',\n",
       " 'Auto Debt - State',\n",
       " 'Auto Debt - County']"
      ]
     },
     "execution_count": 3,
     "metadata": {},
     "output_type": "execute_result"
    }
   ],
   "source": [
    "Debt = openpyxl.load_workbook('Debt_Data.xlsx')\n",
    "Debt.get_sheet_names()"
   ]
  },
  {
   "cell_type": "code",
   "execution_count": 4,
   "metadata": {},
   "outputs": [
    {
     "name": "stderr",
     "output_type": "stream",
     "text": [
      "C:\\Users\\madel\\Anaconda3\\lib\\site-packages\\ipykernel_launcher.py:1: DeprecationWarning: Call to deprecated function get_sheet_by_name (Use wb[sheetname]).\n",
      "  \"\"\"Entry point for launching an IPython kernel.\n",
      "C:\\Users\\madel\\Anaconda3\\lib\\site-packages\\ipykernel_launcher.py:2: DeprecationWarning: Call to deprecated function remove_sheet (Use wb.remove(worksheet) or del wb[sheetname]).\n",
      "  \n",
      "C:\\Users\\madel\\Anaconda3\\lib\\site-packages\\ipykernel_launcher.py:3: DeprecationWarning: Call to deprecated function get_sheet_by_name (Use wb[sheetname]).\n",
      "  This is separate from the ipykernel package so we can avoid doing imports until\n",
      "C:\\Users\\madel\\Anaconda3\\lib\\site-packages\\ipykernel_launcher.py:4: DeprecationWarning: Call to deprecated function remove_sheet (Use wb.remove(worksheet) or del wb[sheetname]).\n",
      "  after removing the cwd from sys.path.\n",
      "C:\\Users\\madel\\Anaconda3\\lib\\site-packages\\ipykernel_launcher.py:5: DeprecationWarning: Call to deprecated function get_sheet_by_name (Use wb[sheetname]).\n",
      "  \"\"\"\n",
      "C:\\Users\\madel\\Anaconda3\\lib\\site-packages\\ipykernel_launcher.py:6: DeprecationWarning: Call to deprecated function remove_sheet (Use wb.remove(worksheet) or del wb[sheetname]).\n",
      "  \n",
      "C:\\Users\\madel\\Anaconda3\\lib\\site-packages\\ipykernel_launcher.py:7: DeprecationWarning: Call to deprecated function get_sheet_by_name (Use wb[sheetname]).\n",
      "  import sys\n",
      "C:\\Users\\madel\\Anaconda3\\lib\\site-packages\\ipykernel_launcher.py:8: DeprecationWarning: Call to deprecated function remove_sheet (Use wb.remove(worksheet) or del wb[sheetname]).\n",
      "  \n"
     ]
    }
   ],
   "source": [
    "MDa=Debt.get_sheet_by_name('Medical Debt - State, US')\n",
    "Debt.remove_sheet(MDa)\n",
    "MDb=Debt.get_sheet_by_name('Medical Debt - County')\n",
    "Debt.remove_sheet(MDb)\n",
    "ADa=Debt.get_sheet_by_name('Auto Debt - State')\n",
    "Debt.remove_sheet(ADa)\n",
    "ADb=Debt.get_sheet_by_name('Auto Debt - County')\n",
    "Debt.remove_sheet(ADb)"
   ]
  },
  {
   "cell_type": "code",
   "execution_count": 5,
   "metadata": {},
   "outputs": [
    {
     "name": "stderr",
     "output_type": "stream",
     "text": [
      "C:\\Users\\madel\\Anaconda3\\lib\\site-packages\\ipykernel_launcher.py:1: DeprecationWarning: Call to deprecated function get_sheet_names (Use wb.sheetnames).\n",
      "  \"\"\"Entry point for launching an IPython kernel.\n"
     ]
    },
    {
     "data": {
      "text/plain": [
       "['Student Loan Debt - State, US', 'Student Loan Debt - County']"
      ]
     },
     "execution_count": 5,
     "metadata": {},
     "output_type": "execute_result"
    }
   ],
   "source": [
    "Debt.get_sheet_names()"
   ]
  },
  {
   "cell_type": "code",
   "execution_count": 6,
   "metadata": {},
   "outputs": [
    {
     "name": "stdout",
     "output_type": "stream",
     "text": [
      "I'm running - Student Loan County\n"
     ]
    }
   ],
   "source": [
    "for ws in Debt.worksheets:\n",
    "        if ws['C1'].value is None:\n",
    "            print(\"I'm running - Student Loan County\")\n",
    "            ws.unmerge_cells('B1:D1')\n",
    "            ws['C1'] = ws['B1'].value\n",
    "            ws['D1'] = ws['B1'].value\n",
    "            ws.unmerge_cells('F1:H1')\n",
    "            ws['G1'] = ws['F1'].value\n",
    "            ws['H1'] = ws['F1'].value\n",
    "            ws.unmerge_cells('J1:L1')\n",
    "            ws['K1'] = ws['J1'].value\n",
    "            ws['L1'] = ws['J1'].value\n",
    "            ws.unmerge_cells('N1:P1')\n",
    "            ws['O1'] = ws['N1'].value\n",
    "            ws['P1'] = ws['N1'].value\n",
    "            ws.unmerge_cells('R1:T1')\n",
    "            ws['S1'] = ws['R1'].value\n",
    "            ws['T1'] = ws['R1'].value\n",
    "            ws.unmerge_cells('V1:X1')\n",
    "            ws['W1'] = ws['V1'].value\n",
    "            ws['X1'] = ws['V1'].value\n",
    "            ws.unmerge_cells('AB1:AD1')\n",
    "            ws['AC1'] = ws['AB1'].value\n",
    "            ws['AD1'] = ws['AB1'].value\n",
    "            ws.unmerge_cells('AF1:AH1')\n",
    "            ws['AG1'] = ws['AF1'].value\n",
    "            ws['AH1'] = ws['AF1'].value\n",
    "        else:\n",
    "            pass"
   ]
  },
  {
   "cell_type": "code",
   "execution_count": 7,
   "metadata": {},
   "outputs": [
    {
     "name": "stdout",
     "output_type": "stream",
     "text": [
      "I'm running - Student Loan - State\n"
     ]
    }
   ],
   "source": [
    "for ws in Debt.worksheets:\n",
    "    if ws['B1'].value is None:\n",
    "        print(\"I'm running - Student Loan - State\")\n",
    "        ws.unmerge_cells('C1:E1')\n",
    "        ws['D1'] = ws['C1'].value\n",
    "        ws['E1'] = ws['C1'].value\n",
    "        ws.unmerge_cells('G1:I1')\n",
    "        ws['I1'] = ws['G1'].value\n",
    "        ws['H1'] = ws['G1'].value\n",
    "        ws.unmerge_cells('K1:M1')\n",
    "        ws['L1'] = ws['K1'].value\n",
    "        ws['M1'] = ws['K1'].value\n",
    "        ws.unmerge_cells('O1:Q1')\n",
    "        ws['P1'] = ws['O1'].value\n",
    "        ws['Q1'] = ws['O1'].value\n",
    "        ws.unmerge_cells('S1:U1')\n",
    "        ws['T1'] = ws['S1'].value\n",
    "        ws['U1'] = ws['S1'].value\n",
    "        ws.unmerge_cells('W1:Y1')\n",
    "        ws['Y1'] = ws['W1'].value\n",
    "        ws['X1'] = ws['W1'].value\n",
    "        ws.unmerge_cells('AC1:AE1')\n",
    "        ws['AD1'] = ws['AC1'].value\n",
    "        ws['AE1'] = ws['AC1'].value\n",
    "        ws.unmerge_cells('AG1:AI1')\n",
    "        ws['AI1'] = ws['AG1'].value\n",
    "        ws['AH1'] = ws['AG1'].value\n",
    "    else:\n",
    "        pass "
   ]
  },
  {
   "cell_type": "code",
   "execution_count": 8,
   "metadata": {},
   "outputs": [],
   "source": [
    "for ws in Debt.worksheets:\n",
    "    if ws['A1'].value is None: \n",
    "        ws['A1']= ws['A2'].value\n",
    "    else:\n",
    "        pass\n",
    "\n",
    "    if ws['B1'].value is None:\n",
    "        ws['B1'] = ws['B2'].value\n",
    "    \n",
    "    else:\n",
    "        pass"
   ]
  },
  {
   "cell_type": "code",
   "execution_count": 9,
   "metadata": {},
   "outputs": [],
   "source": [
    "Debt.save('extracted_student_loan_data.xlsx')"
   ]
  },
  {
   "cell_type": "code",
   "execution_count": null,
   "metadata": {},
   "outputs": [],
   "source": []
  }
 ],
 "metadata": {
  "kernelspec": {
   "display_name": "Python 3",
   "language": "python",
   "name": "python3"
  },
  "language_info": {
   "codemirror_mode": {
    "name": "ipython",
    "version": 3
   },
   "file_extension": ".py",
   "mimetype": "text/x-python",
   "name": "python",
   "nbconvert_exporter": "python",
   "pygments_lexer": "ipython3",
   "version": "3.7.1"
  }
 },
 "nbformat": 4,
 "nbformat_minor": 2
}
